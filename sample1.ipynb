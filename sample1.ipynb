{
 "cells": [
  {
   "cell_type": "code",
   "execution_count": 1,
   "id": "d54d1107",
   "metadata": {},
   "outputs": [],
   "source": [
    "import docx"
   ]
  },
  {
   "cell_type": "code",
   "execution_count": 2,
   "id": "a364424a",
   "metadata": {},
   "outputs": [],
   "source": [
    "doc1 = docx.Document()"
   ]
  },
  {
   "cell_type": "code",
   "execution_count": 3,
   "id": "dcc1b4f1",
   "metadata": {},
   "outputs": [
    {
     "data": {
      "text/plain": [
       "<docx.text.paragraph.Paragraph at 0xc2121fe6130>"
      ]
     },
     "execution_count": 3,
     "metadata": {},
     "output_type": "execute_result"
    }
   ],
   "source": [
    "doc1.add_paragraph('PythonでWord文書作成', style='Title')\n",
    "doc1.add_paragraph('PythonでOfficeの文書を操作できます。初めにライブラリ python-docx を用いて、Word文書を作成します。')\n",
    "doc1.add_paragraph('文書作成の基本', style='Heading 1')"
   ]
  },
  {
   "cell_type": "code",
   "execution_count": 4,
   "id": "5be771b1",
   "metadata": {},
   "outputs": [
    {
     "data": {
      "text/plain": [
       "<docx.text.run.Run at 0xc20d278d190>"
      ]
     },
     "execution_count": 4,
     "metadata": {},
     "output_type": "execute_result"
    }
   ],
   "source": [
    "p1 = doc1.add_paragraph('文書内で')\n",
    "p1.add_run('太字').bold = True\n",
    "p1.add_run('や、')\n",
    "p1.add_run('斜字').italic = True\n",
    "p1.add_run('などを設定できます。')"
   ]
  },
  {
   "cell_type": "code",
   "execution_count": 5,
   "id": "9f4be159",
   "metadata": {},
   "outputs": [],
   "source": [
    "doc1.save('doc1.docx')"
   ]
  },
  {
   "cell_type": "code",
   "execution_count": null,
   "id": "c1d9d62c",
   "metadata": {},
   "outputs": [],
   "source": []
  }
 ],
 "metadata": {
  "kernelspec": {
   "display_name": "Python 3",
   "language": "python",
   "name": "python3"
  },
  "language_info": {
   "codemirror_mode": {
    "name": "ipython",
    "version": 3
   },
   "file_extension": ".py",
   "mimetype": "text/x-python",
   "name": "python",
   "nbconvert_exporter": "python",
   "pygments_lexer": "ipython3",
   "version": "3.8.6"
  }
 },
 "nbformat": 4,
 "nbformat_minor": 5
}
