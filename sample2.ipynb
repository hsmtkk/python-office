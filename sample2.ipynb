{
 "cells": [
  {
   "cell_type": "code",
   "execution_count": 1,
   "id": "67bfdb16",
   "metadata": {},
   "outputs": [],
   "source": [
    "import docx"
   ]
  },
  {
   "cell_type": "code",
   "execution_count": 2,
   "id": "4d513571",
   "metadata": {},
   "outputs": [],
   "source": [
    "doc2 = docx.Document('doc1.docx')"
   ]
  },
  {
   "cell_type": "code",
   "execution_count": 3,
   "id": "e26d9484",
   "metadata": {},
   "outputs": [],
   "source": [
    "scheme = ['python-docxでの文書作成方法は以下の通りです。', '文書全体をDocumentオブジェクトとして作成', 'DocumentオブジェクトにParagraphオブジェクトを追加', '各ParagraphオブジェクトにRunオブジェクトを追加', 'Documentオブジェクトをファイルとして保存']"
   ]
  },
  {
   "cell_type": "code",
   "execution_count": 4,
   "id": "1ab02acc",
   "metadata": {},
   "outputs": [],
   "source": [
    "doc2.add_paragraph(scheme[0])\n",
    "for i in range(1, len(scheme)):\n",
    "    doc2.add_paragraph(scheme[i], style='List Number')"
   ]
  },
  {
   "cell_type": "code",
   "execution_count": 6,
   "id": "591a9490",
   "metadata": {},
   "outputs": [],
   "source": [
    "doc2.save('doc2.docx')"
   ]
  },
  {
   "cell_type": "code",
   "execution_count": null,
   "id": "60773596",
   "metadata": {},
   "outputs": [],
   "source": []
  }
 ],
 "metadata": {
  "kernelspec": {
   "display_name": "Python 3",
   "language": "python",
   "name": "python3"
  },
  "language_info": {
   "codemirror_mode": {
    "name": "ipython",
    "version": 3
   },
   "file_extension": ".py",
   "mimetype": "text/x-python",
   "name": "python",
   "nbconvert_exporter": "python",
   "pygments_lexer": "ipython3",
   "version": "3.8.6"
  }
 },
 "nbformat": 4,
 "nbformat_minor": 5
}
